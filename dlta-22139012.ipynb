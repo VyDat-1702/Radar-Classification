{
 "cells": [
  {
   "cell_type": "markdown",
   "id": "b4182bba",
   "metadata": {
    "id": "dVGTHdgbETyM",
    "papermill": {
     "duration": 0.003735,
     "end_time": "2025-10-06T02:27:17.324509",
     "exception": false,
     "start_time": "2025-10-06T02:27:17.320774",
     "status": "completed"
    },
    "tags": []
   },
   "source": [
    "# **THÊM CÁC THƯ VIỆN CẦN THIẾT**"
   ]
  },
  {
   "cell_type": "code",
   "execution_count": 1,
   "id": "9e74b744",
   "metadata": {
    "_cell_guid": "b2a9b001-2f95-4f9a-a581-4965ebdb2669",
    "_uuid": "ec44ac50-9171-494c-b5a6-85d78cbce781",
    "collapsed": false,
    "execution": {
     "iopub.execute_input": "2025-10-06T02:27:17.331307Z",
     "iopub.status.busy": "2025-10-06T02:27:17.331096Z",
     "iopub.status.idle": "2025-10-06T02:27:36.787539Z",
     "shell.execute_reply": "2025-10-06T02:27:36.786929Z"
    },
    "id": "aO_RXpeyREe2",
    "jupyter": {
     "outputs_hidden": false
    },
    "papermill": {
     "duration": 19.461332,
     "end_time": "2025-10-06T02:27:36.788935",
     "exception": false,
     "start_time": "2025-10-06T02:27:17.327603",
     "status": "completed"
    },
    "tags": []
   },
   "outputs": [],
   "source": [
    "import torch\n",
    "import torch.nn as nn\n",
    "import torch.optim as optim\n",
    "from torch.optim.lr_scheduler import ReduceLROnPlateau\n",
    "import torchvision\n",
    "import torchvision.transforms as transforms\n",
    "from torch.utils.data import DataLoader, random_split\n",
    "import numpy as np\n",
    "from tqdm import tqdm\n",
    "import matplotlib.pyplot as plt\n",
    "from sklearn.metrics import confusion_matrix, classification_report\n",
    "import seaborn as sns"
   ]
  },
  {
   "cell_type": "code",
   "execution_count": 2,
   "id": "f7a08748",
   "metadata": {
    "_cell_guid": "352f1aa6-e78f-46e7-884a-3d43ee396814",
    "_uuid": "53ae2747-40c2-4b23-9eac-a9e4c469f43c",
    "collapsed": false,
    "execution": {
     "iopub.execute_input": "2025-10-06T02:27:36.796247Z",
     "iopub.status.busy": "2025-10-06T02:27:36.795729Z",
     "iopub.status.idle": "2025-10-06T02:27:36.883983Z",
     "shell.execute_reply": "2025-10-06T02:27:36.883197Z"
    },
    "id": "qzEnhO-VREe3",
    "jupyter": {
     "outputs_hidden": false
    },
    "outputId": "650ef4b8-cccf-407c-84fe-166da2ca3087",
    "papermill": {
     "duration": 0.092884,
     "end_time": "2025-10-06T02:27:36.885112",
     "exception": false,
     "start_time": "2025-10-06T02:27:36.792228",
     "status": "completed"
    },
    "tags": []
   },
   "outputs": [
    {
     "name": "stdout",
     "output_type": "stream",
     "text": [
      "Using device: cuda\n"
     ]
    }
   ],
   "source": [
    "# Kiểm tra dùng cuda GPU để tăng tốc độ huấn luyện\n",
    "device = torch.device('cuda' if torch.cuda.is_available() else 'cpu')\n",
    "print(f'Using device: {device}')\n",
    "\n",
    "# Định nghĩa các siêu tham số\n",
    "BATCH_SIZE = 64\n",
    "EPOCHS = 150\n",
    "LEARNING_RATE = 0.0005 # tốc độ học\n",
    "WEIGHT_DECAY = 5e-4 #Phạt trọng số\n",
    "\n",
    "SCHEDULER_PATIENCE = 5 #5 lần không cải thiện val loss thì giảm tốc độ học\n",
    "SCHEDULER_FACTOR = 0.5 #mỗi lần giảm 50%\n",
    "EARLY_STOP_PATIENCE = 15 #15 lần không cải thiện thì dừng huấn luyện"
   ]
  },
  {
   "cell_type": "markdown",
   "id": "7fedd371",
   "metadata": {
    "id": "1UV1SLtrHpi7",
    "papermill": {
     "duration": 0.002894,
     "end_time": "2025-10-06T02:27:36.891434",
     "exception": false,
     "start_time": "2025-10-06T02:27:36.888540",
     "status": "completed"
    },
    "tags": []
   },
   "source": [
    "# **TIỀN XỬ LÝ DỮ LIỆU TRƯỚC KHI HUẤN LUYỆN**"
   ]
  },
  {
   "cell_type": "code",
   "execution_count": 3,
   "id": "e27ede9a",
   "metadata": {
    "_cell_guid": "e04b797e-d554-4899-b0b0-9df4fd5aaac0",
    "_uuid": "65806513-4884-49fd-aa68-453701936077",
    "collapsed": false,
    "execution": {
     "iopub.execute_input": "2025-10-06T02:27:36.898320Z",
     "iopub.status.busy": "2025-10-06T02:27:36.897765Z",
     "iopub.status.idle": "2025-10-06T02:27:42.202408Z",
     "shell.execute_reply": "2025-10-06T02:27:42.201733Z"
    },
    "id": "5ttfLRVBREe4",
    "jupyter": {
     "outputs_hidden": false
    },
    "outputId": "39210613-9f93-4444-c683-dd4589bd8eff",
    "papermill": {
     "duration": 5.30932,
     "end_time": "2025-10-06T02:27:42.203639",
     "exception": false,
     "start_time": "2025-10-06T02:27:36.894319",
     "status": "completed"
    },
    "tags": []
   },
   "outputs": [
    {
     "name": "stderr",
     "output_type": "stream",
     "text": [
      "100%|██████████| 170M/170M [00:01<00:00, 89.4MB/s]\n"
     ]
    },
    {
     "name": "stdout",
     "output_type": "stream",
     "text": [
      "Number of training images: 40000\n",
      "Number of validation images: 10000\n",
      "Number of test images: 10000\n",
      "['airplane', 'automobile', 'bird', 'cat', 'deer', 'dog', 'frog', 'horse', 'ship', 'truck']\n"
     ]
    }
   ],
   "source": [
    "#Tiền xử lý cho tập huấn luyện\n",
    "transform_train = transforms.Compose([\n",
    "    transforms.RandomCrop(32, padding=4), #Cắt ngẫu nhiên một vùng ảnh kích thước 32×32, padding thêm 4 pixel ở mỗi cạnh\n",
    "    transforms.RandomHorizontalFlip(),  #Ngẫu nhiên lật ảnh theo chiều ngang\n",
    "    transforms.ToTensor(), #Chuyển thành định dạng Tensor\n",
    "    transforms.Normalize((0.4914, 0.4822, 0.4465),\n",
    "                         (0.2023, 0.1994, 0.2010)), # Chuẩn hóa mean và std\n",
    "])\n",
    "\n",
    "#Tiền xử lý cho tập kiểm tra\n",
    "transform_test = transforms.Compose([\n",
    "    transforms.ToTensor(), # Chuyển dữ liệu thành định dạng Tensor\n",
    "    transforms.Normalize((0.4914, 0.4822, 0.4465),\n",
    "                         (0.2023, 0.1994, 0.2010)), #Chuẩn hóa dữ liệu\n",
    "])\n",
    "\n",
    "#Load train dataset từ thư viện torchvision\n",
    "full_trainset = torchvision.datasets.CIFAR10(\n",
    "    root='./data', train=True, download=True, transform=transform_train\n",
    ")\n",
    "\n",
    "#Load test dataset từ thư viện\n",
    "testset = torchvision.datasets.CIFAR10(\n",
    "    root='./data', train=False, download=True, transform=transform_test\n",
    ")\n",
    "\n",
    "#Chia tập train dataset thành train và validation\n",
    "train_size = int(0.8 * len(full_trainset))\n",
    "val_size = len(full_trainset) - train_size\n",
    "trainset, valset = random_split(full_trainset, [train_size, val_size])\n",
    "\n",
    "#Chuyển thành dataloader\n",
    "trainloader = DataLoader(trainset, batch_size=BATCH_SIZE, shuffle=True, num_workers=2)\n",
    "valloader = DataLoader(valset, batch_size=BATCH_SIZE, shuffle=False, num_workers=2)\n",
    "testloader = DataLoader(testset, batch_size=BATCH_SIZE, shuffle=False, num_workers=2)\n",
    "\n",
    "#Định nghĩa các class trong CIFAR-10\n",
    "classes = ('airplane', 'automobile', 'bird', 'cat', 'deer',\n",
    "           'dog', 'frog', 'horse', 'ship', 'truck')\n",
    "\n",
    "print(f'Number of training images: {len(trainset)}')\n",
    "print(f'Number of validation images: {len(valset)}')\n",
    "print(f'Number of test images: {len(testset)}')\n",
    "print(full_trainset.classes)"
   ]
  },
  {
   "cell_type": "markdown",
   "id": "6801196b",
   "metadata": {
    "id": "t7Ljix6jRJ73",
    "papermill": {
     "duration": 0.004162,
     "end_time": "2025-10-06T02:27:42.212763",
     "exception": false,
     "start_time": "2025-10-06T02:27:42.208601",
     "status": "completed"
    },
    "tags": []
   },
   "source": [
    "# **KIẾN TRÚC MÔ HÌNH**"
   ]
  },
  {
   "cell_type": "code",
   "execution_count": 4,
   "id": "e9eacbb8",
   "metadata": {
    "_cell_guid": "3c912e1e-f1c4-426e-9faa-d9e050f9c20c",
    "_uuid": "039f85dc-928c-47f6-b75f-2215b3627378",
    "collapsed": false,
    "execution": {
     "iopub.execute_input": "2025-10-06T02:27:42.220991Z",
     "iopub.status.busy": "2025-10-06T02:27:42.220769Z",
     "iopub.status.idle": "2025-10-06T02:27:42.232263Z",
     "shell.execute_reply": "2025-10-06T02:27:42.231701Z"
    },
    "id": "CgATQV-RREe5",
    "jupyter": {
     "outputs_hidden": false
    },
    "papermill": {
     "duration": 0.01708,
     "end_time": "2025-10-06T02:27:42.233371",
     "exception": false,
     "start_time": "2025-10-06T02:27:42.216291",
     "status": "completed"
    },
    "tags": []
   },
   "outputs": [],
   "source": [
    "#Xây dựng khối cơ bản cho mô hình\n",
    "class BasicBlock(nn.Module):\n",
    "    expansion = 1 #Giữ nguyên đầu ra\n",
    "\n",
    "    def __init__(self, in_channels, out_channels, stride=1):\n",
    "        super(BasicBlock, self).__init__()\n",
    "\n",
    "        self.conv1 = nn.Conv2d(in_channels, out_channels, kernel_size=3,\n",
    "                               stride=stride, padding=1, bias=False)\n",
    "        self.bn1 = nn.BatchNorm2d(out_channels)\n",
    "        self.relu = nn.ReLU(inplace=True)\n",
    "\n",
    "        self.conv2 = nn.Conv2d(out_channels, out_channels, kernel_size=3,\n",
    "                               stride=1, padding=1, bias=False)\n",
    "        self.bn2 = nn.BatchNorm2d(out_channels)\n",
    "\n",
    "        #Xây dựng thành phần skip connection (đặc trưng của ResNet)\n",
    "        self.shortcut = nn.Sequential()\n",
    "        if stride != 1 or in_channels != out_channels * self.expansion:\n",
    "            self.shortcut = nn.Sequential(\n",
    "                nn.Conv2d(in_channels, out_channels * self.expansion,\n",
    "                          kernel_size=1, stride=stride, bias=False),\n",
    "                nn.BatchNorm2d(out_channels * self.expansion)\n",
    "            )\n",
    "\n",
    "    def forward(self, x):\n",
    "        identity = x\n",
    "\n",
    "        out = self.conv1(x)\n",
    "        out = self.bn1(out)\n",
    "        out = self.relu(out)\n",
    "\n",
    "        out = self.conv2(out)\n",
    "        out = self.bn2(out)\n",
    "\n",
    "        out += self.shortcut(identity)\n",
    "        out = self.relu(out)\n",
    "\n",
    "        return out\n",
    "\n",
    "#Kiến trúc tổng thể của mô hình\n",
    "class ResNet34(nn.Module):\n",
    "    def __init__(self, num_classes=10):\n",
    "        super(ResNet34, self).__init__()\n",
    "\n",
    "        self.in_channels = 64\n",
    "\n",
    "        self.conv1 = nn.Conv2d(3, 64, kernel_size=3, stride=1, padding=1, bias=False)\n",
    "        self.bn1 = nn.BatchNorm2d(64)\n",
    "        self.relu = nn.ReLU(inplace=True)\n",
    "\n",
    "        #Các tầng Residual\n",
    "        self.layer1 = self._make_layer(64, 3, stride=1)\n",
    "        self.layer2 = self._make_layer(128, 4, stride=2)\n",
    "        self.layer3 = self._make_layer(256, 6, stride=2)\n",
    "        self.layer4 = self._make_layer(512, 3, stride=2)\n",
    "\n",
    "        self.avgpool = nn.AdaptiveAvgPool2d((1, 1))\n",
    "        self.fc = nn.Linear(512 * BasicBlock.expansion, num_classes)\n",
    "\n",
    "        self._initialize_weights()\n",
    "\n",
    "    #Tạo chuỗi basic block\n",
    "    def _make_layer(self, out_channels, num_blocks, stride):\n",
    "        strides = [stride] + [1] * (num_blocks - 1)\n",
    "        layers = []\n",
    "\n",
    "        for stride in strides:\n",
    "            layers.append(BasicBlock(self.in_channels, out_channels, stride))\n",
    "            self.in_channels = out_channels * BasicBlock.expansion\n",
    "\n",
    "        return nn.Sequential(*layers)\n",
    "\n",
    "    #Khởi tạo trọng số dùng He (Kaiming) initialization\n",
    "    def _initialize_weights(self):\n",
    "        for m in self.modules():\n",
    "            if isinstance(m, nn.Conv2d):\n",
    "                nn.init.kaiming_normal_(m.weight, mode='fan_out', nonlinearity='relu')\n",
    "            elif isinstance(m, nn.BatchNorm2d):\n",
    "                nn.init.constant_(m.weight, 1)\n",
    "                nn.init.constant_(m.bias, 0)\n",
    "\n",
    "    def forward(self, x):\n",
    "        x = self.conv1(x)\n",
    "        x = self.bn1(x)\n",
    "        x = self.relu(x)\n",
    "\n",
    "        x = self.layer1(x)\n",
    "        x = self.layer2(x)\n",
    "        x = self.layer3(x)\n",
    "        x = self.layer4(x)\n",
    "\n",
    "        x = self.avgpool(x)\n",
    "        x = torch.flatten(x, 1)\n",
    "        x = self.fc(x)\n",
    "\n",
    "        return x"
   ]
  },
  {
   "cell_type": "markdown",
   "id": "c6ab6990",
   "metadata": {
    "id": "CypYmYJ5RS3K",
    "papermill": {
     "duration": 0.00345,
     "end_time": "2025-10-06T02:27:42.240573",
     "exception": false,
     "start_time": "2025-10-06T02:27:42.237123",
     "status": "completed"
    },
    "tags": []
   },
   "source": [
    "# **KHỞI TẠO MÔ HÌNH VÀ CÁ HÀM CHO QUÁ TRÌNH HUẤN LUYỆN**"
   ]
  },
  {
   "cell_type": "code",
   "execution_count": 5,
   "id": "bc830294",
   "metadata": {
    "_cell_guid": "b95bf416-4de4-4f62-a590-5e57216228ec",
    "_uuid": "9bd58736-27a3-4b4b-be37-a62d94577811",
    "collapsed": false,
    "execution": {
     "iopub.execute_input": "2025-10-06T02:27:42.249145Z",
     "iopub.status.busy": "2025-10-06T02:27:42.248950Z",
     "iopub.status.idle": "2025-10-06T02:27:42.799214Z",
     "shell.execute_reply": "2025-10-06T02:27:42.798441Z"
    },
    "id": "RSEYBaOAREe5",
    "jupyter": {
     "outputs_hidden": false
    },
    "papermill": {
     "duration": 0.556582,
     "end_time": "2025-10-06T02:27:42.800694",
     "exception": false,
     "start_time": "2025-10-06T02:27:42.244112",
     "status": "completed"
    },
    "tags": []
   },
   "outputs": [],
   "source": [
    "#Khởi tạo mô hình là kiến trúc vừa tạo\n",
    "model = ResNet34(num_classes=10).to(device)\n",
    "\n",
    "#Hàm Loss\n",
    "criterion = nn.CrossEntropyLoss()\n",
    "\n",
    "#Hàm tối ưu\n",
    "optimizer = optim.Adam(\n",
    "    model.parameters(), #tối ưu tham số\n",
    "    lr=LEARNING_RATE, #tốc độ học\n",
    "    weight_decay=WEIGHT_DECAY #L2 regularzation, tinh chỉnh giảm overfitting\n",
    ")\n",
    "\n",
    "#Bộ điều chỉnh tốc độ học\n",
    "scheduler = ReduceLROnPlateau(\n",
    "    optimizer, mode='min', #Theo dõi giá trị loss\n",
    "    factor=SCHEDULER_FACTOR,  #Tỉ số giảm\n",
    "    patience=SCHEDULER_PATIENCE #Ngưỡng cải thiện loss, không giảm thì điều chỉnh LR\n",
    "    )"
   ]
  },
  {
   "cell_type": "markdown",
   "id": "2ac94870",
   "metadata": {
    "id": "gGpNQ_WbRdsU",
    "papermill": {
     "duration": 0.003553,
     "end_time": "2025-10-06T02:27:42.808302",
     "exception": false,
     "start_time": "2025-10-06T02:27:42.804749",
     "status": "completed"
    },
    "tags": []
   },
   "source": [
    "# **XÂY DỰNG HÀM HUẤN LUYỆN VÀ HÀM KIỂM ĐỊNH**"
   ]
  },
  {
   "cell_type": "code",
   "execution_count": 6,
   "id": "d47c1a82",
   "metadata": {
    "_cell_guid": "0826ae72-08f3-4584-a3d2-4e566ce26adb",
    "_uuid": "68d1e102-6a42-42e5-8430-f54fb6d4a411",
    "collapsed": false,
    "execution": {
     "iopub.execute_input": "2025-10-06T02:27:42.816500Z",
     "iopub.status.busy": "2025-10-06T02:27:42.816244Z",
     "iopub.status.idle": "2025-10-06T02:27:42.823573Z",
     "shell.execute_reply": "2025-10-06T02:27:42.822946Z"
    },
    "id": "Ia7CSBXBREe5",
    "jupyter": {
     "outputs_hidden": false
    },
    "papermill": {
     "duration": 0.012579,
     "end_time": "2025-10-06T02:27:42.824599",
     "exception": false,
     "start_time": "2025-10-06T02:27:42.812020",
     "status": "completed"
    },
    "tags": []
   },
   "outputs": [],
   "source": [
    "#Hàm huấn luyện\n",
    "def train_epoch(model, dataloader, criterion, optimizer, device):\n",
    "    #Khởi tạo chế độ huấn luyện\n",
    "    model.train()\n",
    "    #Các biến lưu giá trị tạm thời\n",
    "    running_loss = 0.0\n",
    "    correct = 0\n",
    "    total = 0\n",
    "\n",
    "    #Dùng thư viện tqdm để theo dõi quá trình train\n",
    "    pbar = tqdm(dataloader, desc='Training')\n",
    "    for inputs, labels in pbar:\n",
    "        #Mapping đầu vào vào device(cuda)\n",
    "        inputs, labels = inputs.to(device), labels.to(device)\n",
    "\n",
    "        optimizer.zero_grad() #Reset gradient\n",
    "        outputs = model(inputs) #Forward pass\n",
    "        loss = criterion(outputs, labels) #Tính loss\n",
    "        loss.backward() #Back prop\n",
    "        optimizer.step()  #Tối ưu theo\n",
    "\n",
    "        running_loss += loss.item() #Tính tổng loss các batch trong 1 epoch\n",
    "        _, predicted = outputs.max(1) #Dự đoán đầu ra\n",
    "        #Tính tổng số mẫu và số dự đoán đúng\n",
    "        total += labels.size(0)\n",
    "        correct += predicted.eq(labels).sum().item()\n",
    "\n",
    "        pbar.set_postfix({\n",
    "            'loss': f'{running_loss/(pbar.n+1):.3f}',\n",
    "            'acc': f'{100.*correct/total:.2f}%'\n",
    "        })\n",
    "\n",
    "    return running_loss / len(dataloader), 100. * correct / total\n",
    "\n",
    "#Hàm validation\n",
    "def validate(model, dataloader, criterion, device):\n",
    "    #Khởi tạo chế độ kiểm định\n",
    "    model.eval()\n",
    "\n",
    "    running_loss = 0.0\n",
    "    correct = 0\n",
    "    total = 0\n",
    "\n",
    "    #Tắt gradient\n",
    "    with torch.no_grad():\n",
    "        for inputs, labels in tqdm(dataloader, desc='Validation'):\n",
    "            inputs, labels = inputs.to(device), labels.to(device)\n",
    "            outputs = model(inputs) #Forward pass\n",
    "            loss = criterion(outputs, labels) #Tính loss\n",
    "\n",
    "            running_loss += loss.item() #Tính tổng loss\n",
    "            _, predicted = outputs.max(1) #Dự đoán đầu ra\n",
    "            total += labels.size(0)\n",
    "            correct += predicted.eq(labels).sum().item()\n",
    "\n",
    "    return running_loss / len(dataloader), 100. * correct / total"
   ]
  },
  {
   "cell_type": "markdown",
   "id": "634ee501",
   "metadata": {
    "id": "7vb3snUjRlP0",
    "papermill": {
     "duration": 0.003473,
     "end_time": "2025-10-06T02:27:42.831610",
     "exception": false,
     "start_time": "2025-10-06T02:27:42.828137",
     "status": "completed"
    },
    "tags": []
   },
   "source": [
    "# **HUẤN LUYỆN MÔ HÌNH**"
   ]
  },
  {
   "cell_type": "code",
   "execution_count": 7,
   "id": "0aa02863",
   "metadata": {
    "_cell_guid": "53d332e7-7d52-4310-826c-e5d480d0bca3",
    "_uuid": "0aa68c04-ec69-494a-a04a-54a990fed52d",
    "collapsed": false,
    "execution": {
     "iopub.execute_input": "2025-10-06T02:27:42.839849Z",
     "iopub.status.busy": "2025-10-06T02:27:42.839639Z",
     "iopub.status.idle": "2025-10-06T03:56:15.548102Z",
     "shell.execute_reply": "2025-10-06T03:56:15.547304Z"
    },
    "id": "i3OGObQzREe6",
    "jupyter": {
     "outputs_hidden": false
    },
    "outputId": "bf018073-22fd-411a-eb71-81b45fcc7359",
    "papermill": {
     "duration": 5314.427822,
     "end_time": "2025-10-06T03:56:17.263089",
     "exception": false,
     "start_time": "2025-10-06T02:27:42.835267",
     "status": "completed"
    },
    "tags": []
   },
   "outputs": [
    {
     "name": "stdout",
     "output_type": "stream",
     "text": [
      "\n",
      "Epoch 1/150\n",
      "Learning Rate: 0.000500\n"
     ]
    },
    {
     "name": "stderr",
     "output_type": "stream",
     "text": [
      "Training: 100%|██████████| 625/625 [00:59<00:00, 10.52it/s, loss=1.508, acc=44.87%]\n",
      "Validation: 100%|██████████| 157/157 [00:04<00:00, 33.65it/s]"
     ]
    },
    {
     "name": "stdout",
     "output_type": "stream",
     "text": [
      "Train Loss: 1.506 | Train Acc: 44.87%\n",
      "Val Loss: 1.340 | Val Acc: 51.28%\n"
     ]
    },
    {
     "name": "stderr",
     "output_type": "stream",
     "text": [
      "\n"
     ]
    },
    {
     "name": "stdout",
     "output_type": "stream",
     "text": [
      "Saved best model with accuracy: 51.28%\n",
      "\n",
      "Epoch 2/150\n",
      "Learning Rate: 0.000500\n"
     ]
    },
    {
     "name": "stderr",
     "output_type": "stream",
     "text": [
      "Training: 100%|██████████| 625/625 [01:02<00:00, 10.08it/s, loss=1.051, acc=62.87%]\n",
      "Validation: 100%|██████████| 157/157 [00:04<00:00, 33.55it/s]"
     ]
    },
    {
     "name": "stdout",
     "output_type": "stream",
     "text": [
      "Train Loss: 1.051 | Train Acc: 62.87%\n",
      "Val Loss: 1.024 | Val Acc: 63.64%\n"
     ]
    },
    {
     "name": "stderr",
     "output_type": "stream",
     "text": [
      "\n"
     ]
    },
    {
     "name": "stdout",
     "output_type": "stream",
     "text": [
      "Saved best model with accuracy: 63.64%\n",
      "\n",
      "Epoch 3/150\n",
      "Learning Rate: 0.000500\n"
     ]
    },
    {
     "name": "stderr",
     "output_type": "stream",
     "text": [
      "Training: 100%|██████████| 625/625 [01:01<00:00, 10.13it/s, loss=0.853, acc=70.39%]\n",
      "Validation: 100%|██████████| 157/157 [00:04<00:00, 33.26it/s]"
     ]
    },
    {
     "name": "stdout",
     "output_type": "stream",
     "text": [
      "Train Loss: 0.853 | Train Acc: 70.39%\n",
      "Val Loss: 0.847 | Val Acc: 69.93%\n"
     ]
    },
    {
     "name": "stderr",
     "output_type": "stream",
     "text": [
      "\n"
     ]
    },
    {
     "name": "stdout",
     "output_type": "stream",
     "text": [
      "Saved best model with accuracy: 69.93%\n",
      "\n",
      "Epoch 4/150\n",
      "Learning Rate: 0.000500\n"
     ]
    },
    {
     "name": "stderr",
     "output_type": "stream",
     "text": [
      "Training: 100%|██████████| 625/625 [01:01<00:00, 10.12it/s, loss=0.736, acc=74.62%]\n",
      "Validation: 100%|██████████| 157/157 [00:04<00:00, 33.08it/s]"
     ]
    },
    {
     "name": "stdout",
     "output_type": "stream",
     "text": [
      "Train Loss: 0.734 | Train Acc: 74.62%\n",
      "Val Loss: 0.813 | Val Acc: 72.77%\n"
     ]
    },
    {
     "name": "stderr",
     "output_type": "stream",
     "text": [
      "\n"
     ]
    },
    {
     "name": "stdout",
     "output_type": "stream",
     "text": [
      "Saved best model with accuracy: 72.77%\n",
      "\n",
      "Epoch 5/150\n",
      "Learning Rate: 0.000500\n"
     ]
    },
    {
     "name": "stderr",
     "output_type": "stream",
     "text": [
      "Training: 100%|██████████| 625/625 [01:01<00:00, 10.13it/s, loss=0.667, acc=76.97%]\n",
      "Validation: 100%|██████████| 157/157 [00:04<00:00, 33.22it/s]"
     ]
    },
    {
     "name": "stdout",
     "output_type": "stream",
     "text": [
      "Train Loss: 0.667 | Train Acc: 76.97%\n",
      "Val Loss: 0.779 | Val Acc: 73.77%\n"
     ]
    },
    {
     "name": "stderr",
     "output_type": "stream",
     "text": [
      "\n"
     ]
    },
    {
     "name": "stdout",
     "output_type": "stream",
     "text": [
      "Saved best model with accuracy: 73.77%\n",
      "\n",
      "Epoch 6/150\n",
      "Learning Rate: 0.000500\n"
     ]
    },
    {
     "name": "stderr",
     "output_type": "stream",
     "text": [
      "Training: 100%|██████████| 625/625 [01:01<00:00, 10.14it/s, loss=0.613, acc=79.03%]\n",
      "Validation: 100%|██████████| 157/157 [00:04<00:00, 33.22it/s]"
     ]
    },
    {
     "name": "stdout",
     "output_type": "stream",
     "text": [
      "Train Loss: 0.613 | Train Acc: 79.03%\n",
      "Val Loss: 0.822 | Val Acc: 72.71%\n"
     ]
    },
    {
     "name": "stderr",
     "output_type": "stream",
     "text": [
      "\n"
     ]
    },
    {
     "name": "stdout",
     "output_type": "stream",
     "text": [
      "Early Stopping Counter: 1/15\n",
      "\n",
      "Epoch 7/150\n",
      "Learning Rate: 0.000500\n"
     ]
    },
    {
     "name": "stderr",
     "output_type": "stream",
     "text": [
      "Training: 100%|██████████| 625/625 [01:01<00:00, 10.17it/s, loss=0.569, acc=80.63%]\n",
      "Validation: 100%|██████████| 157/157 [00:04<00:00, 32.88it/s]"
     ]
    },
    {
     "name": "stdout",
     "output_type": "stream",
     "text": [
      "Train Loss: 0.568 | Train Acc: 80.63%\n",
      "Val Loss: 0.617 | Val Acc: 78.73%\n"
     ]
    },
    {
     "name": "stderr",
     "output_type": "stream",
     "text": [
      "\n"
     ]
    },
    {
     "name": "stdout",
     "output_type": "stream",
     "text": [
      "Saved best model with accuracy: 78.73%\n",
      "\n",
      "Epoch 8/150\n",
      "Learning Rate: 0.000500\n"
     ]
    },
    {
     "name": "stderr",
     "output_type": "stream",
     "text": [
      "Training: 100%|██████████| 625/625 [01:01<00:00, 10.21it/s, loss=0.532, acc=81.87%]\n",
      "Validation: 100%|██████████| 157/157 [00:04<00:00, 33.26it/s]"
     ]
    },
    {
     "name": "stdout",
     "output_type": "stream",
     "text": [
      "Train Loss: 0.531 | Train Acc: 81.87%\n",
      "Val Loss: 0.696 | Val Acc: 76.86%\n"
     ]
    },
    {
     "name": "stderr",
     "output_type": "stream",
     "text": [
      "\n"
     ]
    },
    {
     "name": "stdout",
     "output_type": "stream",
     "text": [
      "Early Stopping Counter: 1/15\n",
      "\n",
      "Epoch 9/150\n",
      "Learning Rate: 0.000500\n"
     ]
    },
    {
     "name": "stderr",
     "output_type": "stream",
     "text": [
      "Training: 100%|██████████| 625/625 [01:01<00:00, 10.23it/s, loss=0.497, acc=83.19%]\n",
      "Validation: 100%|██████████| 157/157 [00:04<00:00, 33.04it/s]"
     ]
    },
    {
     "name": "stdout",
     "output_type": "stream",
     "text": [
      "Train Loss: 0.496 | Train Acc: 83.19%\n",
      "Val Loss: 0.591 | Val Acc: 80.02%\n"
     ]
    },
    {
     "name": "stderr",
     "output_type": "stream",
     "text": [
      "\n"
     ]
    },
    {
     "name": "stdout",
     "output_type": "stream",
     "text": [
      "Saved best model with accuracy: 80.02%\n",
      "\n",
      "Epoch 10/150\n",
      "Learning Rate: 0.000500\n"
     ]
    },
    {
     "name": "stderr",
     "output_type": "stream",
     "text": [
      "Training: 100%|██████████| 625/625 [01:00<00:00, 10.26it/s, loss=0.470, acc=84.07%]\n",
      "Validation: 100%|██████████| 157/157 [00:04<00:00, 33.27it/s]"
     ]
    },
    {
     "name": "stdout",
     "output_type": "stream",
     "text": [
      "Train Loss: 0.470 | Train Acc: 84.07%\n",
      "Val Loss: 0.530 | Val Acc: 81.78%\n"
     ]
    },
    {
     "name": "stderr",
     "output_type": "stream",
     "text": [
      "\n"
     ]
    },
    {
     "name": "stdout",
     "output_type": "stream",
     "text": [
      "Saved best model with accuracy: 81.78%\n",
      "\n",
      "Epoch 11/150\n",
      "Learning Rate: 0.000500\n"
     ]
    },
    {
     "name": "stderr",
     "output_type": "stream",
     "text": [
      "Training: 100%|██████████| 625/625 [01:00<00:00, 10.29it/s, loss=0.449, acc=84.95%]\n",
      "Validation: 100%|██████████| 157/157 [00:04<00:00, 33.44it/s]"
     ]
    },
    {
     "name": "stdout",
     "output_type": "stream",
     "text": [
      "Train Loss: 0.449 | Train Acc: 84.95%\n",
      "Val Loss: 0.546 | Val Acc: 81.60%\n"
     ]
    },
    {
     "name": "stderr",
     "output_type": "stream",
     "text": [
      "\n"
     ]
    },
    {
     "name": "stdout",
     "output_type": "stream",
     "text": [
      "Early Stopping Counter: 1/15\n",
      "\n",
      "Epoch 12/150\n",
      "Learning Rate: 0.000500\n"
     ]
    },
    {
     "name": "stderr",
     "output_type": "stream",
     "text": [
      "Training: 100%|██████████| 625/625 [01:00<00:00, 10.31it/s, loss=0.420, acc=85.73%]\n",
      "Validation: 100%|██████████| 157/157 [00:04<00:00, 33.38it/s]"
     ]
    },
    {
     "name": "stdout",
     "output_type": "stream",
     "text": [
      "Train Loss: 0.419 | Train Acc: 85.73%\n",
      "Val Loss: 0.518 | Val Acc: 82.21%\n"
     ]
    },
    {
     "name": "stderr",
     "output_type": "stream",
     "text": [
      "\n"
     ]
    },
    {
     "name": "stdout",
     "output_type": "stream",
     "text": [
      "Saved best model with accuracy: 82.21%\n",
      "\n",
      "Epoch 13/150\n",
      "Learning Rate: 0.000500\n"
     ]
    },
    {
     "name": "stderr",
     "output_type": "stream",
     "text": [
      "Training: 100%|██████████| 625/625 [01:00<00:00, 10.33it/s, loss=0.403, acc=86.28%]\n",
      "Validation: 100%|██████████| 157/157 [00:04<00:00, 33.40it/s]"
     ]
    },
    {
     "name": "stdout",
     "output_type": "stream",
     "text": [
      "Train Loss: 0.402 | Train Acc: 86.28%\n",
      "Val Loss: 0.569 | Val Acc: 80.90%\n"
     ]
    },
    {
     "name": "stderr",
     "output_type": "stream",
     "text": [
      "\n"
     ]
    },
    {
     "name": "stdout",
     "output_type": "stream",
     "text": [
      "Early Stopping Counter: 1/15\n",
      "\n",
      "Epoch 14/150\n",
      "Learning Rate: 0.000500\n"
     ]
    },
    {
     "name": "stderr",
     "output_type": "stream",
     "text": [
      "Training: 100%|██████████| 625/625 [01:00<00:00, 10.34it/s, loss=0.387, acc=86.80%]\n",
      "Validation: 100%|██████████| 157/157 [00:04<00:00, 33.42it/s]"
     ]
    },
    {
     "name": "stdout",
     "output_type": "stream",
     "text": [
      "Train Loss: 0.386 | Train Acc: 86.80%\n",
      "Val Loss: 0.530 | Val Acc: 82.04%\n"
     ]
    },
    {
     "name": "stderr",
     "output_type": "stream",
     "text": [
      "\n"
     ]
    },
    {
     "name": "stdout",
     "output_type": "stream",
     "text": [
      "Early Stopping Counter: 2/15\n",
      "\n",
      "Epoch 15/150\n",
      "Learning Rate: 0.000500\n"
     ]
    },
    {
     "name": "stderr",
     "output_type": "stream",
     "text": [
      "Training: 100%|██████████| 625/625 [01:00<00:00, 10.36it/s, loss=0.374, acc=87.39%]\n",
      "Validation: 100%|██████████| 157/157 [00:04<00:00, 33.41it/s]"
     ]
    },
    {
     "name": "stdout",
     "output_type": "stream",
     "text": [
      "Train Loss: 0.373 | Train Acc: 87.39%\n",
      "Val Loss: 0.416 | Val Acc: 85.93%\n"
     ]
    },
    {
     "name": "stderr",
     "output_type": "stream",
     "text": [
      "\n"
     ]
    },
    {
     "name": "stdout",
     "output_type": "stream",
     "text": [
      "Saved best model with accuracy: 85.93%\n",
      "\n",
      "Epoch 16/150\n",
      "Learning Rate: 0.000500\n"
     ]
    },
    {
     "name": "stderr",
     "output_type": "stream",
     "text": [
      "Training: 100%|██████████| 625/625 [01:00<00:00, 10.38it/s, loss=0.353, acc=88.04%]\n",
      "Validation: 100%|██████████| 157/157 [00:04<00:00, 33.61it/s]"
     ]
    },
    {
     "name": "stdout",
     "output_type": "stream",
     "text": [
      "Train Loss: 0.352 | Train Acc: 88.04%\n",
      "Val Loss: 0.553 | Val Acc: 81.26%\n"
     ]
    },
    {
     "name": "stderr",
     "output_type": "stream",
     "text": [
      "\n"
     ]
    },
    {
     "name": "stdout",
     "output_type": "stream",
     "text": [
      "Early Stopping Counter: 1/15\n",
      "\n",
      "Epoch 17/150\n",
      "Learning Rate: 0.000500\n"
     ]
    },
    {
     "name": "stderr",
     "output_type": "stream",
     "text": [
      "Training: 100%|██████████| 625/625 [01:00<00:00, 10.39it/s, loss=0.342, acc=88.39%]\n",
      "Validation: 100%|██████████| 157/157 [00:04<00:00, 33.61it/s]"
     ]
    },
    {
     "name": "stdout",
     "output_type": "stream",
     "text": [
      "Train Loss: 0.342 | Train Acc: 88.39%\n",
      "Val Loss: 0.444 | Val Acc: 84.81%\n"
     ]
    },
    {
     "name": "stderr",
     "output_type": "stream",
     "text": [
      "\n"
     ]
    },
    {
     "name": "stdout",
     "output_type": "stream",
     "text": [
      "Early Stopping Counter: 2/15\n",
      "\n",
      "Epoch 18/150\n",
      "Learning Rate: 0.000500\n"
     ]
    },
    {
     "name": "stderr",
     "output_type": "stream",
     "text": [
      "Training: 100%|██████████| 625/625 [01:00<00:00, 10.39it/s, loss=0.340, acc=88.53%]\n",
      "Validation: 100%|██████████| 157/157 [00:04<00:00, 33.53it/s]"
     ]
    },
    {
     "name": "stdout",
     "output_type": "stream",
     "text": [
      "Train Loss: 0.339 | Train Acc: 88.53%\n",
      "Val Loss: 0.424 | Val Acc: 85.56%\n"
     ]
    },
    {
     "name": "stderr",
     "output_type": "stream",
     "text": [
      "\n"
     ]
    },
    {
     "name": "stdout",
     "output_type": "stream",
     "text": [
      "Early Stopping Counter: 3/15\n",
      "\n",
      "Epoch 19/150\n",
      "Learning Rate: 0.000500\n"
     ]
    },
    {
     "name": "stderr",
     "output_type": "stream",
     "text": [
      "Training: 100%|██████████| 625/625 [01:00<00:00, 10.41it/s, loss=0.323, acc=88.91%]\n",
      "Validation: 100%|██████████| 157/157 [00:04<00:00, 33.82it/s]"
     ]
    },
    {
     "name": "stdout",
     "output_type": "stream",
     "text": [
      "Train Loss: 0.322 | Train Acc: 88.91%\n",
      "Val Loss: 0.455 | Val Acc: 84.85%\n"
     ]
    },
    {
     "name": "stderr",
     "output_type": "stream",
     "text": [
      "\n"
     ]
    },
    {
     "name": "stdout",
     "output_type": "stream",
     "text": [
      "Early Stopping Counter: 4/15\n",
      "\n",
      "Epoch 20/150\n",
      "Learning Rate: 0.000500\n"
     ]
    },
    {
     "name": "stderr",
     "output_type": "stream",
     "text": [
      "Training: 100%|██████████| 625/625 [01:00<00:00, 10.40it/s, loss=0.310, acc=89.40%]\n",
      "Validation: 100%|██████████| 157/157 [00:04<00:00, 33.66it/s]"
     ]
    },
    {
     "name": "stdout",
     "output_type": "stream",
     "text": [
      "Train Loss: 0.310 | Train Acc: 89.40%\n",
      "Val Loss: 0.426 | Val Acc: 85.58%\n"
     ]
    },
    {
     "name": "stderr",
     "output_type": "stream",
     "text": [
      "\n"
     ]
    },
    {
     "name": "stdout",
     "output_type": "stream",
     "text": [
      "Early Stopping Counter: 5/15\n",
      "\n",
      "Epoch 21/150\n",
      "Learning Rate: 0.000500\n"
     ]
    },
    {
     "name": "stderr",
     "output_type": "stream",
     "text": [
      "Training: 100%|██████████| 625/625 [00:59<00:00, 10.42it/s, loss=0.301, acc=89.72%]\n",
      "Validation: 100%|██████████| 157/157 [00:04<00:00, 33.68it/s]"
     ]
    },
    {
     "name": "stdout",
     "output_type": "stream",
     "text": [
      "Train Loss: 0.301 | Train Acc: 89.72%\n",
      "Val Loss: 0.430 | Val Acc: 85.57%\n"
     ]
    },
    {
     "name": "stderr",
     "output_type": "stream",
     "text": [
      "\n"
     ]
    },
    {
     "name": "stdout",
     "output_type": "stream",
     "text": [
      "Early Stopping Counter: 6/15\n",
      "\n",
      "Epoch 22/150\n",
      "Learning Rate: 0.000250\n"
     ]
    },
    {
     "name": "stderr",
     "output_type": "stream",
     "text": [
      "Training: 100%|██████████| 625/625 [00:59<00:00, 10.44it/s, loss=0.219, acc=92.52%]\n",
      "Validation: 100%|██████████| 157/157 [00:04<00:00, 33.77it/s]"
     ]
    },
    {
     "name": "stdout",
     "output_type": "stream",
     "text": [
      "Train Loss: 0.219 | Train Acc: 92.52%\n",
      "Val Loss: 0.306 | Val Acc: 89.80%\n"
     ]
    },
    {
     "name": "stderr",
     "output_type": "stream",
     "text": [
      "\n"
     ]
    },
    {
     "name": "stdout",
     "output_type": "stream",
     "text": [
      "Saved best model with accuracy: 89.80%\n",
      "\n",
      "Epoch 23/150\n",
      "Learning Rate: 0.000250\n"
     ]
    },
    {
     "name": "stderr",
     "output_type": "stream",
     "text": [
      "Training: 100%|██████████| 625/625 [00:59<00:00, 10.44it/s, loss=0.201, acc=93.14%]\n",
      "Validation: 100%|██████████| 157/157 [00:04<00:00, 33.73it/s]"
     ]
    },
    {
     "name": "stdout",
     "output_type": "stream",
     "text": [
      "Train Loss: 0.201 | Train Acc: 93.14%\n",
      "Val Loss: 0.314 | Val Acc: 89.68%\n"
     ]
    },
    {
     "name": "stderr",
     "output_type": "stream",
     "text": [
      "\n"
     ]
    },
    {
     "name": "stdout",
     "output_type": "stream",
     "text": [
      "Early Stopping Counter: 1/15\n",
      "\n",
      "Epoch 24/150\n",
      "Learning Rate: 0.000250\n"
     ]
    },
    {
     "name": "stderr",
     "output_type": "stream",
     "text": [
      "Training: 100%|██████████| 625/625 [00:59<00:00, 10.43it/s, loss=0.187, acc=93.64%]\n",
      "Validation: 100%|██████████| 157/157 [00:04<00:00, 33.65it/s]"
     ]
    },
    {
     "name": "stdout",
     "output_type": "stream",
     "text": [
      "Train Loss: 0.186 | Train Acc: 93.64%\n",
      "Val Loss: 0.288 | Val Acc: 89.79%\n"
     ]
    },
    {
     "name": "stderr",
     "output_type": "stream",
     "text": [
      "\n"
     ]
    },
    {
     "name": "stdout",
     "output_type": "stream",
     "text": [
      "\n",
      "Epoch 25/150\n",
      "Learning Rate: 0.000250\n"
     ]
    },
    {
     "name": "stderr",
     "output_type": "stream",
     "text": [
      "Training: 100%|██████████| 625/625 [00:59<00:00, 10.46it/s, loss=0.184, acc=93.85%]\n",
      "Validation: 100%|██████████| 157/157 [00:04<00:00, 33.74it/s]"
     ]
    },
    {
     "name": "stdout",
     "output_type": "stream",
     "text": [
      "Train Loss: 0.184 | Train Acc: 93.85%\n",
      "Val Loss: 0.331 | Val Acc: 89.24%\n"
     ]
    },
    {
     "name": "stderr",
     "output_type": "stream",
     "text": [
      "\n"
     ]
    },
    {
     "name": "stdout",
     "output_type": "stream",
     "text": [
      "Early Stopping Counter: 1/15\n",
      "\n",
      "Epoch 26/150\n",
      "Learning Rate: 0.000250\n"
     ]
    },
    {
     "name": "stderr",
     "output_type": "stream",
     "text": [
      "Training: 100%|██████████| 625/625 [00:59<00:00, 10.47it/s, loss=0.176, acc=93.99%]\n",
      "Validation: 100%|██████████| 157/157 [00:04<00:00, 33.75it/s]"
     ]
    },
    {
     "name": "stdout",
     "output_type": "stream",
     "text": [
      "Train Loss: 0.176 | Train Acc: 93.99%\n",
      "Val Loss: 0.307 | Val Acc: 90.20%\n"
     ]
    },
    {
     "name": "stderr",
     "output_type": "stream",
     "text": [
      "\n"
     ]
    },
    {
     "name": "stdout",
     "output_type": "stream",
     "text": [
      "Saved best model with accuracy: 90.20%\n",
      "Early Stopping Counter: 2/15\n",
      "\n",
      "Epoch 27/150\n",
      "Learning Rate: 0.000250\n"
     ]
    },
    {
     "name": "stderr",
     "output_type": "stream",
     "text": [
      "Training: 100%|██████████| 625/625 [00:59<00:00, 10.46it/s, loss=0.167, acc=94.31%]\n",
      "Validation: 100%|██████████| 157/157 [00:04<00:00, 33.80it/s]"
     ]
    },
    {
     "name": "stdout",
     "output_type": "stream",
     "text": [
      "Train Loss: 0.167 | Train Acc: 94.31%\n",
      "Val Loss: 0.308 | Val Acc: 89.88%\n"
     ]
    },
    {
     "name": "stderr",
     "output_type": "stream",
     "text": [
      "\n"
     ]
    },
    {
     "name": "stdout",
     "output_type": "stream",
     "text": [
      "Early Stopping Counter: 3/15\n",
      "\n",
      "Epoch 28/150\n",
      "Learning Rate: 0.000250\n"
     ]
    },
    {
     "name": "stderr",
     "output_type": "stream",
     "text": [
      "Training: 100%|██████████| 625/625 [00:59<00:00, 10.44it/s, loss=0.163, acc=94.38%]\n",
      "Validation: 100%|██████████| 157/157 [00:04<00:00, 33.70it/s]"
     ]
    },
    {
     "name": "stdout",
     "output_type": "stream",
     "text": [
      "Train Loss: 0.163 | Train Acc: 94.38%\n",
      "Val Loss: 0.311 | Val Acc: 89.87%\n"
     ]
    },
    {
     "name": "stderr",
     "output_type": "stream",
     "text": [
      "\n"
     ]
    },
    {
     "name": "stdout",
     "output_type": "stream",
     "text": [
      "Early Stopping Counter: 4/15\n",
      "\n",
      "Epoch 29/150\n",
      "Learning Rate: 0.000250\n"
     ]
    },
    {
     "name": "stderr",
     "output_type": "stream",
     "text": [
      "Training: 100%|██████████| 625/625 [00:59<00:00, 10.45it/s, loss=0.160, acc=94.65%]\n",
      "Validation: 100%|██████████| 157/157 [00:04<00:00, 33.80it/s]"
     ]
    },
    {
     "name": "stdout",
     "output_type": "stream",
     "text": [
      "Train Loss: 0.160 | Train Acc: 94.65%\n",
      "Val Loss: 0.315 | Val Acc: 89.79%\n"
     ]
    },
    {
     "name": "stderr",
     "output_type": "stream",
     "text": [
      "\n"
     ]
    },
    {
     "name": "stdout",
     "output_type": "stream",
     "text": [
      "Early Stopping Counter: 5/15\n",
      "\n",
      "Epoch 30/150\n",
      "Learning Rate: 0.000250\n"
     ]
    },
    {
     "name": "stderr",
     "output_type": "stream",
     "text": [
      "Training: 100%|██████████| 625/625 [00:59<00:00, 10.50it/s, loss=0.156, acc=94.59%]\n",
      "Validation: 100%|██████████| 157/157 [00:04<00:00, 33.75it/s]"
     ]
    },
    {
     "name": "stdout",
     "output_type": "stream",
     "text": [
      "Train Loss: 0.156 | Train Acc: 94.59%\n",
      "Val Loss: 0.282 | Val Acc: 90.56%\n"
     ]
    },
    {
     "name": "stderr",
     "output_type": "stream",
     "text": [
      "\n"
     ]
    },
    {
     "name": "stdout",
     "output_type": "stream",
     "text": [
      "Saved best model with accuracy: 90.56%\n",
      "\n",
      "Epoch 31/150\n",
      "Learning Rate: 0.000250\n"
     ]
    },
    {
     "name": "stderr",
     "output_type": "stream",
     "text": [
      "Training: 100%|██████████| 625/625 [00:59<00:00, 10.50it/s, loss=0.149, acc=94.82%]\n",
      "Validation: 100%|██████████| 157/157 [00:04<00:00, 33.93it/s]"
     ]
    },
    {
     "name": "stdout",
     "output_type": "stream",
     "text": [
      "Train Loss: 0.149 | Train Acc: 94.82%\n",
      "Val Loss: 0.325 | Val Acc: 89.68%\n"
     ]
    },
    {
     "name": "stderr",
     "output_type": "stream",
     "text": [
      "\n"
     ]
    },
    {
     "name": "stdout",
     "output_type": "stream",
     "text": [
      "Early Stopping Counter: 1/15\n",
      "\n",
      "Epoch 32/150\n",
      "Learning Rate: 0.000250\n"
     ]
    },
    {
     "name": "stderr",
     "output_type": "stream",
     "text": [
      "Training: 100%|██████████| 625/625 [00:59<00:00, 10.48it/s, loss=0.151, acc=94.80%]\n",
      "Validation: 100%|██████████| 157/157 [00:04<00:00, 33.78it/s]"
     ]
    },
    {
     "name": "stdout",
     "output_type": "stream",
     "text": [
      "Train Loss: 0.151 | Train Acc: 94.80%\n",
      "Val Loss: 0.313 | Val Acc: 89.99%\n"
     ]
    },
    {
     "name": "stderr",
     "output_type": "stream",
     "text": [
      "\n"
     ]
    },
    {
     "name": "stdout",
     "output_type": "stream",
     "text": [
      "Early Stopping Counter: 2/15\n",
      "\n",
      "Epoch 33/150\n",
      "Learning Rate: 0.000250\n"
     ]
    },
    {
     "name": "stderr",
     "output_type": "stream",
     "text": [
      "Training: 100%|██████████| 625/625 [00:59<00:00, 10.48it/s, loss=0.142, acc=95.09%]\n",
      "Validation: 100%|██████████| 157/157 [00:04<00:00, 33.86it/s]"
     ]
    },
    {
     "name": "stdout",
     "output_type": "stream",
     "text": [
      "Train Loss: 0.142 | Train Acc: 95.09%\n",
      "Val Loss: 0.298 | Val Acc: 90.46%\n"
     ]
    },
    {
     "name": "stderr",
     "output_type": "stream",
     "text": [
      "\n"
     ]
    },
    {
     "name": "stdout",
     "output_type": "stream",
     "text": [
      "Early Stopping Counter: 3/15\n",
      "\n",
      "Epoch 34/150\n",
      "Learning Rate: 0.000250\n"
     ]
    },
    {
     "name": "stderr",
     "output_type": "stream",
     "text": [
      "Training: 100%|██████████| 625/625 [00:59<00:00, 10.47it/s, loss=0.135, acc=95.28%]\n",
      "Validation: 100%|██████████| 157/157 [00:04<00:00, 33.86it/s]"
     ]
    },
    {
     "name": "stdout",
     "output_type": "stream",
     "text": [
      "Train Loss: 0.135 | Train Acc: 95.28%\n",
      "Val Loss: 0.334 | Val Acc: 89.58%\n"
     ]
    },
    {
     "name": "stderr",
     "output_type": "stream",
     "text": [
      "\n"
     ]
    },
    {
     "name": "stdout",
     "output_type": "stream",
     "text": [
      "Early Stopping Counter: 4/15\n",
      "\n",
      "Epoch 35/150\n",
      "Learning Rate: 0.000250\n"
     ]
    },
    {
     "name": "stderr",
     "output_type": "stream",
     "text": [
      "Training: 100%|██████████| 625/625 [00:59<00:00, 10.50it/s, loss=0.141, acc=95.05%]\n",
      "Validation: 100%|██████████| 157/157 [00:04<00:00, 33.78it/s]"
     ]
    },
    {
     "name": "stdout",
     "output_type": "stream",
     "text": [
      "Train Loss: 0.141 | Train Acc: 95.05%\n",
      "Val Loss: 0.337 | Val Acc: 89.31%\n"
     ]
    },
    {
     "name": "stderr",
     "output_type": "stream",
     "text": [
      "\n"
     ]
    },
    {
     "name": "stdout",
     "output_type": "stream",
     "text": [
      "Early Stopping Counter: 5/15\n",
      "\n",
      "Epoch 36/150\n",
      "Learning Rate: 0.000250\n"
     ]
    },
    {
     "name": "stderr",
     "output_type": "stream",
     "text": [
      "Training: 100%|██████████| 625/625 [00:59<00:00, 10.48it/s, loss=0.135, acc=95.38%]\n",
      "Validation: 100%|██████████| 157/157 [00:04<00:00, 33.64it/s]"
     ]
    },
    {
     "name": "stdout",
     "output_type": "stream",
     "text": [
      "Train Loss: 0.135 | Train Acc: 95.38%\n",
      "Val Loss: 0.326 | Val Acc: 89.86%\n"
     ]
    },
    {
     "name": "stderr",
     "output_type": "stream",
     "text": [
      "\n"
     ]
    },
    {
     "name": "stdout",
     "output_type": "stream",
     "text": [
      "Early Stopping Counter: 6/15\n",
      "\n",
      "Epoch 37/150\n",
      "Learning Rate: 0.000125\n"
     ]
    },
    {
     "name": "stderr",
     "output_type": "stream",
     "text": [
      "Training: 100%|██████████| 625/625 [00:59<00:00, 10.49it/s, loss=0.087, acc=97.17%]\n",
      "Validation: 100%|██████████| 157/157 [00:04<00:00, 33.92it/s]"
     ]
    },
    {
     "name": "stdout",
     "output_type": "stream",
     "text": [
      "Train Loss: 0.087 | Train Acc: 97.17%\n",
      "Val Loss: 0.283 | Val Acc: 91.05%\n"
     ]
    },
    {
     "name": "stderr",
     "output_type": "stream",
     "text": [
      "\n"
     ]
    },
    {
     "name": "stdout",
     "output_type": "stream",
     "text": [
      "Saved best model with accuracy: 91.05%\n",
      "Early Stopping Counter: 7/15\n",
      "\n",
      "Epoch 38/150\n",
      "Learning Rate: 0.000125\n"
     ]
    },
    {
     "name": "stderr",
     "output_type": "stream",
     "text": [
      "Training: 100%|██████████| 625/625 [00:59<00:00, 10.50it/s, loss=0.074, acc=97.59%]\n",
      "Validation: 100%|██████████| 157/157 [00:04<00:00, 33.79it/s]"
     ]
    },
    {
     "name": "stdout",
     "output_type": "stream",
     "text": [
      "Train Loss: 0.074 | Train Acc: 97.59%\n",
      "Val Loss: 0.277 | Val Acc: 91.66%\n"
     ]
    },
    {
     "name": "stderr",
     "output_type": "stream",
     "text": [
      "\n"
     ]
    },
    {
     "name": "stdout",
     "output_type": "stream",
     "text": [
      "Saved best model with accuracy: 91.66%\n",
      "\n",
      "Epoch 39/150\n",
      "Learning Rate: 0.000125\n"
     ]
    },
    {
     "name": "stderr",
     "output_type": "stream",
     "text": [
      "Training: 100%|██████████| 625/625 [00:59<00:00, 10.50it/s, loss=0.072, acc=97.60%]\n",
      "Validation: 100%|██████████| 157/157 [00:04<00:00, 33.83it/s]"
     ]
    },
    {
     "name": "stdout",
     "output_type": "stream",
     "text": [
      "Train Loss: 0.072 | Train Acc: 97.60%\n",
      "Val Loss: 0.293 | Val Acc: 91.22%\n"
     ]
    },
    {
     "name": "stderr",
     "output_type": "stream",
     "text": [
      "\n"
     ]
    },
    {
     "name": "stdout",
     "output_type": "stream",
     "text": [
      "Early Stopping Counter: 1/15\n",
      "\n",
      "Epoch 40/150\n",
      "Learning Rate: 0.000125\n"
     ]
    },
    {
     "name": "stderr",
     "output_type": "stream",
     "text": [
      "Training: 100%|██████████| 625/625 [00:59<00:00, 10.51it/s, loss=0.068, acc=97.67%]\n",
      "Validation: 100%|██████████| 157/157 [00:04<00:00, 33.88it/s]"
     ]
    },
    {
     "name": "stdout",
     "output_type": "stream",
     "text": [
      "Train Loss: 0.068 | Train Acc: 97.67%\n",
      "Val Loss: 0.298 | Val Acc: 91.16%\n"
     ]
    },
    {
     "name": "stderr",
     "output_type": "stream",
     "text": [
      "\n"
     ]
    },
    {
     "name": "stdout",
     "output_type": "stream",
     "text": [
      "Early Stopping Counter: 2/15\n",
      "\n",
      "Epoch 41/150\n",
      "Learning Rate: 0.000125\n"
     ]
    },
    {
     "name": "stderr",
     "output_type": "stream",
     "text": [
      "Training: 100%|██████████| 625/625 [00:59<00:00, 10.50it/s, loss=0.066, acc=97.77%]\n",
      "Validation: 100%|██████████| 157/157 [00:04<00:00, 33.87it/s]"
     ]
    },
    {
     "name": "stdout",
     "output_type": "stream",
     "text": [
      "Train Loss: 0.066 | Train Acc: 97.77%\n",
      "Val Loss: 0.293 | Val Acc: 91.23%\n"
     ]
    },
    {
     "name": "stderr",
     "output_type": "stream",
     "text": [
      "\n"
     ]
    },
    {
     "name": "stdout",
     "output_type": "stream",
     "text": [
      "Early Stopping Counter: 3/15\n",
      "\n",
      "Epoch 42/150\n",
      "Learning Rate: 0.000125\n"
     ]
    },
    {
     "name": "stderr",
     "output_type": "stream",
     "text": [
      "Training: 100%|██████████| 625/625 [00:59<00:00, 10.50it/s, loss=0.062, acc=97.95%]\n",
      "Validation: 100%|██████████| 157/157 [00:04<00:00, 33.89it/s]"
     ]
    },
    {
     "name": "stdout",
     "output_type": "stream",
     "text": [
      "Train Loss: 0.062 | Train Acc: 97.95%\n",
      "Val Loss: 0.292 | Val Acc: 91.19%\n"
     ]
    },
    {
     "name": "stderr",
     "output_type": "stream",
     "text": [
      "\n"
     ]
    },
    {
     "name": "stdout",
     "output_type": "stream",
     "text": [
      "Early Stopping Counter: 4/15\n",
      "\n",
      "Epoch 43/150\n",
      "Learning Rate: 0.000125\n"
     ]
    },
    {
     "name": "stderr",
     "output_type": "stream",
     "text": [
      "Training: 100%|██████████| 625/625 [00:59<00:00, 10.50it/s, loss=0.064, acc=97.86%]\n",
      "Validation: 100%|██████████| 157/157 [00:04<00:00, 33.86it/s]"
     ]
    },
    {
     "name": "stdout",
     "output_type": "stream",
     "text": [
      "Train Loss: 0.064 | Train Acc: 97.86%\n",
      "Val Loss: 0.298 | Val Acc: 91.25%\n"
     ]
    },
    {
     "name": "stderr",
     "output_type": "stream",
     "text": [
      "\n"
     ]
    },
    {
     "name": "stdout",
     "output_type": "stream",
     "text": [
      "Early Stopping Counter: 5/15\n",
      "\n",
      "Epoch 44/150\n",
      "Learning Rate: 0.000125\n"
     ]
    },
    {
     "name": "stderr",
     "output_type": "stream",
     "text": [
      "Training: 100%|██████████| 625/625 [00:59<00:00, 10.49it/s, loss=0.060, acc=98.07%]\n",
      "Validation: 100%|██████████| 157/157 [00:04<00:00, 33.78it/s]"
     ]
    },
    {
     "name": "stdout",
     "output_type": "stream",
     "text": [
      "Train Loss: 0.060 | Train Acc: 98.07%\n",
      "Val Loss: 0.305 | Val Acc: 91.42%\n"
     ]
    },
    {
     "name": "stderr",
     "output_type": "stream",
     "text": [
      "\n"
     ]
    },
    {
     "name": "stdout",
     "output_type": "stream",
     "text": [
      "Early Stopping Counter: 6/15\n",
      "\n",
      "Epoch 45/150\n",
      "Learning Rate: 0.000063\n"
     ]
    },
    {
     "name": "stderr",
     "output_type": "stream",
     "text": [
      "Training: 100%|██████████| 625/625 [00:59<00:00, 10.52it/s, loss=0.041, acc=98.72%]\n",
      "Validation: 100%|██████████| 157/157 [00:04<00:00, 33.94it/s]"
     ]
    },
    {
     "name": "stdout",
     "output_type": "stream",
     "text": [
      "Train Loss: 0.041 | Train Acc: 98.72%\n",
      "Val Loss: 0.263 | Val Acc: 92.24%\n"
     ]
    },
    {
     "name": "stderr",
     "output_type": "stream",
     "text": [
      "\n"
     ]
    },
    {
     "name": "stdout",
     "output_type": "stream",
     "text": [
      "Saved best model with accuracy: 92.24%\n",
      "\n",
      "Epoch 46/150\n",
      "Learning Rate: 0.000063\n"
     ]
    },
    {
     "name": "stderr",
     "output_type": "stream",
     "text": [
      "Training: 100%|██████████| 625/625 [00:59<00:00, 10.50it/s, loss=0.034, acc=98.92%]\n",
      "Validation: 100%|██████████| 157/157 [00:04<00:00, 33.92it/s]"
     ]
    },
    {
     "name": "stdout",
     "output_type": "stream",
     "text": [
      "Train Loss: 0.034 | Train Acc: 98.92%\n",
      "Val Loss: 0.288 | Val Acc: 91.84%\n"
     ]
    },
    {
     "name": "stderr",
     "output_type": "stream",
     "text": [
      "\n"
     ]
    },
    {
     "name": "stdout",
     "output_type": "stream",
     "text": [
      "Early Stopping Counter: 1/15\n",
      "\n",
      "Epoch 47/150\n",
      "Learning Rate: 0.000063\n"
     ]
    },
    {
     "name": "stderr",
     "output_type": "stream",
     "text": [
      "Training: 100%|██████████| 625/625 [00:59<00:00, 10.50it/s, loss=0.033, acc=98.94%]\n",
      "Validation: 100%|██████████| 157/157 [00:04<00:00, 33.89it/s]"
     ]
    },
    {
     "name": "stdout",
     "output_type": "stream",
     "text": [
      "Train Loss: 0.033 | Train Acc: 98.94%\n",
      "Val Loss: 0.277 | Val Acc: 92.22%\n"
     ]
    },
    {
     "name": "stderr",
     "output_type": "stream",
     "text": [
      "\n"
     ]
    },
    {
     "name": "stdout",
     "output_type": "stream",
     "text": [
      "Early Stopping Counter: 2/15\n",
      "\n",
      "Epoch 48/150\n",
      "Learning Rate: 0.000063\n"
     ]
    },
    {
     "name": "stderr",
     "output_type": "stream",
     "text": [
      "Training: 100%|██████████| 625/625 [00:59<00:00, 10.50it/s, loss=0.029, acc=99.12%]\n",
      "Validation: 100%|██████████| 157/157 [00:04<00:00, 33.92it/s]"
     ]
    },
    {
     "name": "stdout",
     "output_type": "stream",
     "text": [
      "Train Loss: 0.029 | Train Acc: 99.12%\n",
      "Val Loss: 0.289 | Val Acc: 92.16%\n"
     ]
    },
    {
     "name": "stderr",
     "output_type": "stream",
     "text": [
      "\n"
     ]
    },
    {
     "name": "stdout",
     "output_type": "stream",
     "text": [
      "Early Stopping Counter: 3/15\n",
      "\n",
      "Epoch 49/150\n",
      "Learning Rate: 0.000063\n"
     ]
    },
    {
     "name": "stderr",
     "output_type": "stream",
     "text": [
      "Training: 100%|██████████| 625/625 [00:59<00:00, 10.52it/s, loss=0.031, acc=99.05%]\n",
      "Validation: 100%|██████████| 157/157 [00:04<00:00, 33.96it/s]"
     ]
    },
    {
     "name": "stdout",
     "output_type": "stream",
     "text": [
      "Train Loss: 0.031 | Train Acc: 99.05%\n",
      "Val Loss: 0.291 | Val Acc: 91.66%\n"
     ]
    },
    {
     "name": "stderr",
     "output_type": "stream",
     "text": [
      "\n"
     ]
    },
    {
     "name": "stdout",
     "output_type": "stream",
     "text": [
      "Early Stopping Counter: 4/15\n",
      "\n",
      "Epoch 50/150\n",
      "Learning Rate: 0.000063\n"
     ]
    },
    {
     "name": "stderr",
     "output_type": "stream",
     "text": [
      "Training: 100%|██████████| 625/625 [00:59<00:00, 10.50it/s, loss=0.029, acc=99.14%]\n",
      "Validation: 100%|██████████| 157/157 [00:04<00:00, 33.86it/s]"
     ]
    },
    {
     "name": "stdout",
     "output_type": "stream",
     "text": [
      "Train Loss: 0.029 | Train Acc: 99.14%\n",
      "Val Loss: 0.287 | Val Acc: 92.20%\n"
     ]
    },
    {
     "name": "stderr",
     "output_type": "stream",
     "text": [
      "\n"
     ]
    },
    {
     "name": "stdout",
     "output_type": "stream",
     "text": [
      "Early Stopping Counter: 5/15\n",
      "\n",
      "Epoch 51/150\n",
      "Learning Rate: 0.000063\n"
     ]
    },
    {
     "name": "stderr",
     "output_type": "stream",
     "text": [
      "Training: 100%|██████████| 625/625 [00:59<00:00, 10.50it/s, loss=0.030, acc=99.06%]\n",
      "Validation: 100%|██████████| 157/157 [00:04<00:00, 33.79it/s]"
     ]
    },
    {
     "name": "stdout",
     "output_type": "stream",
     "text": [
      "Train Loss: 0.030 | Train Acc: 99.06%\n",
      "Val Loss: 0.310 | Val Acc: 91.59%\n"
     ]
    },
    {
     "name": "stderr",
     "output_type": "stream",
     "text": [
      "\n"
     ]
    },
    {
     "name": "stdout",
     "output_type": "stream",
     "text": [
      "Early Stopping Counter: 6/15\n",
      "\n",
      "Epoch 52/150\n",
      "Learning Rate: 0.000031\n"
     ]
    },
    {
     "name": "stderr",
     "output_type": "stream",
     "text": [
      "Training: 100%|██████████| 625/625 [00:59<00:00, 10.51it/s, loss=0.022, acc=99.37%]\n",
      "Validation: 100%|██████████| 157/157 [00:04<00:00, 33.90it/s]"
     ]
    },
    {
     "name": "stdout",
     "output_type": "stream",
     "text": [
      "Train Loss: 0.022 | Train Acc: 99.37%\n",
      "Val Loss: 0.292 | Val Acc: 92.29%\n"
     ]
    },
    {
     "name": "stderr",
     "output_type": "stream",
     "text": [
      "\n"
     ]
    },
    {
     "name": "stdout",
     "output_type": "stream",
     "text": [
      "Saved best model with accuracy: 92.29%\n",
      "Early Stopping Counter: 7/15\n",
      "\n",
      "Epoch 53/150\n",
      "Learning Rate: 0.000031\n"
     ]
    },
    {
     "name": "stderr",
     "output_type": "stream",
     "text": [
      "Training: 100%|██████████| 625/625 [00:59<00:00, 10.51it/s, loss=0.018, acc=99.47%]\n",
      "Validation: 100%|██████████| 157/157 [00:04<00:00, 33.83it/s]"
     ]
    },
    {
     "name": "stdout",
     "output_type": "stream",
     "text": [
      "Train Loss: 0.018 | Train Acc: 99.47%\n",
      "Val Loss: 0.289 | Val Acc: 92.49%\n"
     ]
    },
    {
     "name": "stderr",
     "output_type": "stream",
     "text": [
      "\n"
     ]
    },
    {
     "name": "stdout",
     "output_type": "stream",
     "text": [
      "Saved best model with accuracy: 92.49%\n",
      "Early Stopping Counter: 8/15\n",
      "\n",
      "Epoch 54/150\n",
      "Learning Rate: 0.000031\n"
     ]
    },
    {
     "name": "stderr",
     "output_type": "stream",
     "text": [
      "Training: 100%|██████████| 625/625 [00:59<00:00, 10.53it/s, loss=0.016, acc=99.58%]\n",
      "Validation: 100%|██████████| 157/157 [00:04<00:00, 33.87it/s]"
     ]
    },
    {
     "name": "stdout",
     "output_type": "stream",
     "text": [
      "Train Loss: 0.016 | Train Acc: 99.58%\n",
      "Val Loss: 0.293 | Val Acc: 92.39%\n"
     ]
    },
    {
     "name": "stderr",
     "output_type": "stream",
     "text": [
      "\n"
     ]
    },
    {
     "name": "stdout",
     "output_type": "stream",
     "text": [
      "Early Stopping Counter: 9/15\n",
      "\n",
      "Epoch 55/150\n",
      "Learning Rate: 0.000031\n"
     ]
    },
    {
     "name": "stderr",
     "output_type": "stream",
     "text": [
      "Training: 100%|██████████| 625/625 [00:59<00:00, 10.52it/s, loss=0.017, acc=99.57%]\n",
      "Validation: 100%|██████████| 157/157 [00:04<00:00, 33.75it/s]"
     ]
    },
    {
     "name": "stdout",
     "output_type": "stream",
     "text": [
      "Train Loss: 0.017 | Train Acc: 99.57%\n",
      "Val Loss: 0.282 | Val Acc: 92.53%\n"
     ]
    },
    {
     "name": "stderr",
     "output_type": "stream",
     "text": [
      "\n"
     ]
    },
    {
     "name": "stdout",
     "output_type": "stream",
     "text": [
      "Saved best model with accuracy: 92.53%\n",
      "Early Stopping Counter: 10/15\n",
      "\n",
      "Epoch 56/150\n",
      "Learning Rate: 0.000031\n"
     ]
    },
    {
     "name": "stderr",
     "output_type": "stream",
     "text": [
      "Training: 100%|██████████| 625/625 [00:59<00:00, 10.51it/s, loss=0.015, acc=99.57%]\n",
      "Validation: 100%|██████████| 157/157 [00:04<00:00, 33.95it/s]"
     ]
    },
    {
     "name": "stdout",
     "output_type": "stream",
     "text": [
      "Train Loss: 0.015 | Train Acc: 99.57%\n",
      "Val Loss: 0.283 | Val Acc: 92.55%\n"
     ]
    },
    {
     "name": "stderr",
     "output_type": "stream",
     "text": [
      "\n"
     ]
    },
    {
     "name": "stdout",
     "output_type": "stream",
     "text": [
      "Saved best model with accuracy: 92.55%\n",
      "Early Stopping Counter: 11/15\n",
      "\n",
      "Epoch 57/150\n",
      "Learning Rate: 0.000031\n"
     ]
    },
    {
     "name": "stderr",
     "output_type": "stream",
     "text": [
      "Training: 100%|██████████| 625/625 [00:59<00:00, 10.49it/s, loss=0.015, acc=99.60%]\n",
      "Validation: 100%|██████████| 157/157 [00:04<00:00, 33.92it/s]"
     ]
    },
    {
     "name": "stdout",
     "output_type": "stream",
     "text": [
      "Train Loss: 0.015 | Train Acc: 99.60%\n",
      "Val Loss: 0.297 | Val Acc: 92.34%\n"
     ]
    },
    {
     "name": "stderr",
     "output_type": "stream",
     "text": [
      "\n"
     ]
    },
    {
     "name": "stdout",
     "output_type": "stream",
     "text": [
      "Early Stopping Counter: 12/15\n",
      "\n",
      "Epoch 58/150\n",
      "Learning Rate: 0.000016\n"
     ]
    },
    {
     "name": "stderr",
     "output_type": "stream",
     "text": [
      "Training: 100%|██████████| 625/625 [00:59<00:00, 10.52it/s, loss=0.013, acc=99.67%]\n",
      "Validation: 100%|██████████| 157/157 [00:04<00:00, 33.85it/s]"
     ]
    },
    {
     "name": "stdout",
     "output_type": "stream",
     "text": [
      "Train Loss: 0.013 | Train Acc: 99.67%\n",
      "Val Loss: 0.293 | Val Acc: 92.60%\n"
     ]
    },
    {
     "name": "stderr",
     "output_type": "stream",
     "text": [
      "\n"
     ]
    },
    {
     "name": "stdout",
     "output_type": "stream",
     "text": [
      "Saved best model with accuracy: 92.60%\n",
      "Early Stopping Counter: 13/15\n",
      "\n",
      "Epoch 59/150\n",
      "Learning Rate: 0.000016\n"
     ]
    },
    {
     "name": "stderr",
     "output_type": "stream",
     "text": [
      "Training: 100%|██████████| 625/625 [00:59<00:00, 10.51it/s, loss=0.013, acc=99.64%]\n",
      "Validation: 100%|██████████| 157/157 [00:04<00:00, 33.97it/s]"
     ]
    },
    {
     "name": "stdout",
     "output_type": "stream",
     "text": [
      "Train Loss: 0.013 | Train Acc: 99.64%\n",
      "Val Loss: 0.288 | Val Acc: 92.57%\n"
     ]
    },
    {
     "name": "stderr",
     "output_type": "stream",
     "text": [
      "\n"
     ]
    },
    {
     "name": "stdout",
     "output_type": "stream",
     "text": [
      "Early Stopping Counter: 14/15\n",
      "\n",
      "Epoch 60/150\n",
      "Learning Rate: 0.000016\n"
     ]
    },
    {
     "name": "stderr",
     "output_type": "stream",
     "text": [
      "Training: 100%|██████████| 625/625 [00:59<00:00, 10.52it/s, loss=0.012, acc=99.72%]\n",
      "Validation: 100%|██████████| 157/157 [00:04<00:00, 33.85it/s]"
     ]
    },
    {
     "name": "stdout",
     "output_type": "stream",
     "text": [
      "Train Loss: 0.012 | Train Acc: 99.72%\n",
      "Val Loss: 0.287 | Val Acc: 92.73%\n"
     ]
    },
    {
     "name": "stderr",
     "output_type": "stream",
     "text": [
      "\n"
     ]
    },
    {
     "name": "stdout",
     "output_type": "stream",
     "text": [
      "Saved best model with accuracy: 92.73%\n",
      "Early Stopping Counter: 15/15\n",
      "Early stopping triggered!\n"
     ]
    },
    {
     "data": {
      "image/png": "[encoded data removed]",
      "text/plain": [
       "<Figure size 1500x500 with 2 Axes>"
      ]
     },
     "metadata": {},
     "output_type": "display_data"
    }
   ],
   "source": [
    "# Khởi tạo các biến lưu giá trị acc và đếm dừng huấn luyện\n",
    "best_acc = 0.0                    # Độ chính xác cao nhất đạt được trên tập validation\n",
    "best_val_loss = float('inf')      # Giá trị loss nhỏ nhất trên tập validation\n",
    "early_stop_counter = 0            # Bộ đếm số lần không cải thiện để dừng sớm\n",
    "\n",
    "\n",
    "# Các list lưu lịch sử huấn luyện\n",
    "train_losses, train_accs = [], []   # Lưu loss và accuracy của tập huấn luyện\n",
    "val_losses, val_accs = [], []       # Lưu loss và accuracy của tập validation\n",
    "\n",
    "#Hàm lấy dự đoán từ mô hình\n",
    "def get_all_preds(model, dataloader, device):\n",
    "    model.eval()                      # Chuyển sang chế độ đánh giá (tắt dropout, batchnorm)\n",
    "    all_preds = []                    # Lưu toàn bộ dự đoán\n",
    "    all_labels = []                   # Lưu toàn bộ nhãn thật\n",
    "\n",
    "    with torch.no_grad():             # Không tính gradient để tiết kiệm bộ nhớ\n",
    "        for inputs, labels in dataloader:\n",
    "            inputs, labels = inputs.to(device), labels.to(device)\n",
    "            outputs = model(inputs)\n",
    "            _, preds = torch.max(outputs, 1)  # Lấy class có xác suất cao nhất\n",
    "            all_preds.extend(preds.cpu().numpy())   # Chuyển về CPU để lưu\n",
    "            all_labels.extend(labels.cpu().numpy())\n",
    "\n",
    "    return np.array(all_labels), np.array(all_preds)\n",
    "\n",
    "#Hàm lặp huấn luyện\n",
    "for epoch in range(EPOCHS):\n",
    "    print(f'\\nEpoch {epoch+1}/{EPOCHS}')\n",
    "    print(f'Learning Rate: {optimizer.param_groups[0][\"lr\"]:.6f}')\n",
    "\n",
    "    train_loss, train_acc = train_epoch(model, trainloader, criterion, optimizer, device)\n",
    "    val_loss, val_acc = validate(model, valloader, criterion, device)\n",
    "\n",
    "    scheduler.step(val_loss) #Chỉnh tốc độ học theo val_loss\n",
    "\n",
    "    train_losses.append(train_loss)\n",
    "    train_accs.append(train_acc)\n",
    "    val_losses.append(val_loss)\n",
    "    val_accs.append(val_acc)\n",
    "\n",
    "    print(f'Train Loss: {train_loss:.3f} | Train Acc: {train_acc:.2f}%')\n",
    "    print(f'Val Loss: {val_loss:.3f} | Val Acc: {val_acc:.2f}%')\n",
    "\n",
    "    #Vẽ confsion matrix cho tập train\n",
    "    y_true_train, y_pred_train = get_all_preds(model, trainloader, device)\n",
    "    cm_train = confusion_matrix(y_true_train, y_pred_train)\n",
    "    plt.figure(figsize=(8,6))\n",
    "    sns.heatmap(cm_train, annot=False, fmt='d', cmap='Blues')\n",
    "    plt.title(f'Train Confusion Matrix - Epoch {epoch+1}')\n",
    "    plt.xlabel('Predicted')\n",
    "    plt.ylabel('True')\n",
    "    plt.savefig(f'confusion_matrix_train_epoch_{epoch+1}.png', dpi=300, bbox_inches='tight')\n",
    "    plt.close()\n",
    "\n",
    "    #Vẽ confusion matrix cho tập val\n",
    "    y_true_val, y_pred_val = get_all_preds(model, valloader, device)\n",
    "    cm_val = confusion_matrix(y_true_val, y_pred_val)\n",
    "    plt.figure(figsize=(8,6))\n",
    "    sns.heatmap(cm_val, annot=False, fmt='d', cmap='Oranges')\n",
    "    plt.title(f'Validation Confusion Matrix - Epoch {epoch+1}')\n",
    "    plt.xlabel('Predicted')\n",
    "    plt.ylabel('True')\n",
    "    plt.savefig(f'confusion_matrix_val_epoch_{epoch+1}.png', dpi=300, bbox_inches='tight')\n",
    "    plt.close()\n",
    "\n",
    "    #Hàm save mô hình, early stop nếu không cải thiện loss sau 15 lần\n",
    "    if val_acc > best_acc:\n",
    "        best_acc = val_acc\n",
    "        torch.save({\n",
    "            'epoch': epoch,\n",
    "            'model_state_dict': model.state_dict(),\n",
    "            'optimizer_state_dict': optimizer.state_dict(),\n",
    "            'best_acc': best_acc,\n",
    "        }, 'resnet34_cifar10.pth')\n",
    "        print(f'Saved best model with accuracy: {best_acc:.2f}%')\n",
    "\n",
    "    if val_loss < best_val_loss:\n",
    "        best_val_loss = val_loss\n",
    "        early_stop_counter = 0\n",
    "    else:\n",
    "        early_stop_counter += 1\n",
    "        print(f\"Early Stopping Counter: {early_stop_counter}/{EARLY_STOP_PATIENCE}\")\n",
    "        if early_stop_counter >= EARLY_STOP_PATIENCE:\n",
    "            print(\"Early stopping triggered!\")\n",
    "            break\n",
    "\n",
    "final_epochs = len(train_losses)\n",
    "epochs_range = range(1, final_epochs + 1)\n",
    "fig, (ax1, ax2) = plt.subplots(1, 2, figsize=(15, 5))\n",
    "\n",
    "#Vẽ đồ thị trực quan quá trình huấn luyện\n",
    "ax1.plot(epochs_range, train_losses, 'b-', label='Train Loss', linewidth=2)\n",
    "ax1.plot(epochs_range, val_losses, 'r-', label='Val Loss', linewidth=2)\n",
    "ax1.set_xlabel('Epochs', fontsize=12, fontweight='bold')\n",
    "ax1.set_ylabel('Loss', fontsize=12, fontweight='bold')\n",
    "ax1.set_title('Training and Validation Loss', fontsize=14, fontweight='bold')\n",
    "ax1.legend(fontsize=11)\n",
    "ax1.grid(True, alpha=0.3)\n",
    "\n",
    "ax2.plot(epochs_range, train_accs, 'b-', label='Train Acc', linewidth=2)\n",
    "ax2.plot(epochs_range, val_accs, 'r-', label='Val Acc', linewidth=2)\n",
    "ax2.set_xlabel('Epochs', fontsize=12, fontweight='bold')\n",
    "ax2.set_ylabel('Accuracy (%)', fontsize=12, fontweight='bold')\n",
    "ax2.set_title('Training and Validation Accuracy', fontsize=14, fontweight='bold')\n",
    "ax2.legend(fontsize=11)\n",
    "ax2.grid(True, alpha=0.3)\n",
    "\n",
    "plt.tight_layout()\n",
    "plt.savefig('training_history.png', dpi=300, bbox_inches='tight')\n",
    "plt.show()"
   ]
  },
  {
   "cell_type": "markdown",
   "id": "8b56d7aa",
   "metadata": {
    "id": "Y1OKrfvjRrML",
    "papermill": {
     "duration": 2.602643,
     "end_time": "2025-10-06T03:56:22.368061",
     "exception": false,
     "start_time": "2025-10-06T03:56:19.765418",
     "status": "completed"
    },
    "tags": []
   },
   "source": [
    "# **KIỂM TRA MÔ HÌNH**"
   ]
  },
  {
   "cell_type": "code",
   "execution_count": 8,
   "id": "abcde376",
   "metadata": {
    "_cell_guid": "41c17912-8c66-4d92-ae3a-f3711c693620",
    "_uuid": "2c4835fb-3f90-4441-831f-bd0263c915ee",
    "collapsed": false,
    "execution": {
     "iopub.execute_input": "2025-10-06T03:56:27.313131Z",
     "iopub.status.busy": "2025-10-06T03:56:27.312819Z",
     "iopub.status.idle": "2025-10-06T03:56:27.600746Z",
     "shell.execute_reply": "2025-10-06T03:56:27.600132Z"
    },
    "id": "1jXD7MKXREe6",
    "jupyter": {
     "outputs_hidden": false
    },
    "papermill": {
     "duration": 2.802695,
     "end_time": "2025-10-06T03:56:27.602057",
     "exception": false,
     "start_time": "2025-10-06T03:56:24.799362",
     "status": "completed"
    },
    "tags": []
   },
   "outputs": [],
   "source": [
    "#Tải mô hình\n",
    "checkpoint = torch.load('resnet34_cifar10.pth')\n",
    "model.load_state_dict(checkpoint['model_state_dict'])\n",
    "\n",
    "#Hàm kiểm tra\n",
    "def test_model(model, dataloader, criterion, device, class_names):\n",
    "    model.eval()  # Đặt model vào chế độ đánh giá (evaluation mode)\n",
    "\n",
    "    all_preds = []   # Danh sách lưu tất cả dự đoán của mô hình\n",
    "    all_labels = []  # Danh sách lưu nhãn thật tương ứng\n",
    "    running_loss = 0.0  # Biến cộng dồn loss qua các batch\n",
    "    correct = 0         # Đếm số lượng dự đoán đúng\n",
    "    total = 0           # Đếm tổng số mẫu đã kiểm thử\n",
    "\n",
    "    # Không tính gradient trong quá trình test\n",
    "    with torch.no_grad():\n",
    "        # Dùng tqdm để theo dõi quá trình\n",
    "        for inputs, labels in tqdm(dataloader, desc='Testing'):\n",
    "            # Chuyển dữ liệu sang GPU hoặc CPU tùy theo thiết bị\n",
    "            inputs, labels = inputs.to(device), labels.to(device)\n",
    "            outputs = model(inputs) #Forward pass\n",
    "            loss = criterion(outputs, labels) #Tính loss\n",
    "            running_loss += loss.item() #Tính tổng loss\n",
    "            _, predicted = outputs.max(1) #Đầu ra dự đoán\n",
    "\n",
    "            # Lưu dự đoán và nhãn thật để phân tích sau (ví dụ confusion matrix)\n",
    "            all_preds.extend(predicted.cpu().numpy())\n",
    "            all_labels.extend(labels.cpu().numpy())\n",
    "\n",
    "            # Cập nhật tổng số mẫu và số mẫu dự đoán đúng\n",
    "            total += labels.size(0)\n",
    "            correct += predicted.eq(labels).sum().item()\n",
    "\n",
    "    # Tính trung bình loss và accuracy trên toàn bộ tập test\n",
    "    test_loss = running_loss / len(dataloader)\n",
    "    test_acc = 100. * correct / total\n",
    "\n",
    "    # In kết quả đánh giá cuối cùng\n",
    "    print(f\"\\nKẾT QUẢ TEST:\")\n",
    "    print(f\"Test Loss: {test_loss:.4f}\")\n",
    "    print(f\"Test Accuracy: {test_acc:.2f}% ({correct}/{total})\")\n",
    "\n",
    "    return np.array(all_labels), np.array(all_preds), test_loss, test_acc"
   ]
  },
  {
   "cell_type": "code",
   "execution_count": 9,
   "id": "bc2bd932",
   "metadata": {
    "_cell_guid": "b585a0a1-8609-4137-a7ab-d9f0705da663",
    "_uuid": "e5b5ca68-3bd2-489b-82bb-198342622773",
    "collapsed": false,
    "execution": {
     "iopub.execute_input": "2025-10-06T03:56:32.592569Z",
     "iopub.status.busy": "2025-10-06T03:56:32.591715Z",
     "iopub.status.idle": "2025-10-06T03:56:38.434761Z",
     "shell.execute_reply": "2025-10-06T03:56:38.433866Z"
    },
    "id": "_fD44VsmREe6",
    "jupyter": {
     "outputs_hidden": false
    },
    "papermill": {
     "duration": 8.2909,
     "end_time": "2025-10-06T03:56:38.436906",
     "exception": false,
     "start_time": "2025-10-06T03:56:30.146006",
     "status": "completed"
    },
    "tags": []
   },
   "outputs": [
    {
     "name": "stderr",
     "output_type": "stream",
     "text": [
      "Testing: 100%|██████████| 157/157 [00:04<00:00, 34.16it/s]\n"
     ]
    },
    {
     "name": "stdout",
     "output_type": "stream",
     "text": [
      "\n",
      "KẾT QUẢ TEST:\n",
      "Test Loss: 0.3077\n",
      "Test Accuracy: 92.98% (9298/10000)\n",
      "\n",
      "Accuracy per class:\n",
      "airplane  : 94.10%\n",
      "automobile: 97.00%\n",
      "bird      : 88.40%\n",
      "cat       : 87.40%\n",
      "deer      : 94.50%\n",
      "dog       : 88.60%\n",
      "frog      : 95.30%\n",
      "horse     : 94.50%\n",
      "ship      : 95.20%\n",
      "truck     : 94.80%\n"
     ]
    },
    {
     "data": {
      "image/png": "[encoded data removed]",
      "text/plain": [
       "<Figure size 1200x1000 with 2 Axes>"
      ]
     },
     "metadata": {},
     "output_type": "display_data"
    }
   ],
   "source": [
    "y_true, y_pred, test_loss, test_acc = test_model(model, testloader, criterion, device, classes)\n",
    "\n",
    "#In độ chính xác từng class và ma trận nhầm lẫn\n",
    "print(\"\\nAccuracy per class:\")\n",
    "cm = confusion_matrix(y_true, y_pred)\n",
    "per_class_acc = cm.diagonal() / cm.sum(axis=1)\n",
    "for i, class_name in enumerate(classes):\n",
    "    print(f\"{class_name:10s}: {per_class_acc[i]*100:.2f}%\")\n",
    "\n",
    "plt.figure(figsize=(12, 10))\n",
    "sns.heatmap(cm, annot=True, fmt='d', cmap='Blues',\n",
    "            xticklabels=classes, yticklabels=classes,\n",
    "            cbar_kws={'label': 'Count'}, linewidths=0.5, linecolor='gray')\n",
    "\n",
    "plt.xlabel('Predicted Label', fontsize=13, fontweight='bold')\n",
    "plt.ylabel('True Label', fontsize=13, fontweight='bold')\n",
    "plt.title('Confusion Matrix - ResNet34 on CIFAR-10', fontsize=15, fontweight='bold', pad=20)\n",
    "\n",
    "plt.tight_layout()\n",
    "plt.savefig('confusion_matrix.png', dpi=300, bbox_inches='tight')\n",
    "plt.show()"
   ]
  }
 ],
 "metadata": {
  "accelerator": "GPU",
  "colab": {
   "gpuType": "T4",
   "provenance": [],
   "toc_visible": true
  },
  "kaggle": {
   "accelerator": "nvidiaTeslaT4",
   "dataSources": [],
   "dockerImageVersionId": 31090,
   "isGpuEnabled": true,
   "isInternetEnabled": true,
   "language": "python",
   "sourceType": "notebook"
  },
  "kernelspec": {
   "display_name": "Python 3",
   "language": "python",
   "name": "python3"
  },
  "language_info": {
   "codemirror_mode": {
    "name": "ipython",
    "version": 3
   },
   "file_extension": ".py",
   "mimetype": "text/x-python",
   "name": "python",
   "nbconvert_exporter": "python",
   "pygments_lexer": "ipython3",
   "version": "3.11.13"
  },
  "papermill": {
   "default_parameters": {},
   "duration": 5373.455052,
   "end_time": "2025-10-06T03:56:44.673085",
   "environment_variables": {},
   "exception": null,
   "input_path": "__notebook__.ipynb",
   "output_path": "__notebook__.ipynb",
   "parameters": {},
   "start_time": "2025-10-06T02:27:11.218033",
   "version": "2.6.0"
  }
 },
 "nbformat": 4,
 "nbformat_minor": 5
}
